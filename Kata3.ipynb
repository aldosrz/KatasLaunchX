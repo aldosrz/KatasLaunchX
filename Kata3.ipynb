{
 "cells": [
  {
   "cell_type": "code",
   "execution_count": 2,
   "metadata": {},
   "outputs": [
    {
     "name": "stdout",
     "output_type": "stream",
     "text": [
      "La velocidad del asteroide es mayor a 25 km/h\n"
     ]
    }
   ],
   "source": [
    "# Añadir el código necesario para crear una variable que guarde la velocidad del asteroide.\n",
    "# Escribe una expresión de prueba para calcular si necesita una advertencia.\n",
    "# Agregue las instrucciones que se ejecutarán si la expresión de prueba es true o false.\n",
    "\n",
    "\n",
    "\n",
    "\n",
    "\n",
    "velocidadAsteroide = 49\n",
    "\n",
    "if velocidadAsteroide > 25:\n",
    "    print('La velocidad del asteroide es mayor a 25 km/h')\n",
    "else:\n",
    "    print('La velocidad del asteroide es menos a 25 km/h')"
   ]
  },
  {
   "cell_type": "code",
   "execution_count": 3,
   "metadata": {},
   "outputs": [
    {
     "name": "stdout",
     "output_type": "stream",
     "text": [
      "El cielo esta normal\n"
     ]
    }
   ],
   "source": [
    "# Agrega el código para crear una variable para un asteroide que viaja a 19 km/s\n",
    "# Escribe varias expresiones de prueba para determinar si puedes ver el rayo de luz desde la tierra\n",
    "# Agrega las instrucciones que se ejecutarán si las expresiones de prueba son True o False\n",
    "\n",
    "velocidadAsteroide = 19\n",
    "\n",
    "if velocidadAsteroide > 20:\n",
    "    print('Hay luz en el cielo!')\n",
    "elif velocidadAsteroide == 20:\n",
    "    print('Hay luz en el cielo!')\n",
    "else:\n",
    "    print('El cielo esta normal')"
   ]
  },
  {
   "cell_type": "code",
   "execution_count": 4,
   "metadata": {},
   "outputs": [
    {
     "name": "stdout",
     "output_type": "stream",
     "text": [
      "Hay luz en el cielo!\n"
     ]
    }
   ],
   "source": [
    "# Agrega el código para crear nuevas variables para la velocidad y el tamaño del asteroide\n",
    "# Para probar el código, prueba con varias velocidades y tamaños\n",
    "# Escribe varias expresiones de prueba o combinaciones de expresiones de prueba para determinar qué mensaje se debe enviar a Tierra.\n",
    "\n",
    "velocidadAsteroide = 25\n",
    "\n",
    "medidaAsteroide = 40\n",
    "\n",
    "\n",
    "if velocidadAsteroide > 25 and medidaAsteroide > 25:\n",
    "    print('Peligro de impacto')\n",
    "elif velocidadAsteroide >= 20:\n",
    "    print('Hay luz en el cielo!')\n",
    "elif medidaAsteroide < 25:\n",
    "    print('El cielo esta normal')\n",
    "else:\n",
    "    print('El cielo esta normal')"
   ]
  }
 ],
 "metadata": {
  "interpreter": {
   "hash": "1f1954804f79277c720a26c57934adbff72c3d3a1d65bf0fa89aef141ca8b78d"
  },
  "kernelspec": {
   "display_name": "Python 3.10.2 64-bit",
   "language": "python",
   "name": "python3"
  },
  "language_info": {
   "codemirror_mode": {
    "name": "ipython",
    "version": 3
   },
   "file_extension": ".py",
   "mimetype": "text/x-python",
   "name": "python",
   "nbconvert_exporter": "python",
   "pygments_lexer": "ipython3",
   "version": "3.10.2"
  },
  "orig_nbformat": 4
 },
 "nbformat": 4,
 "nbformat_minor": 2
}
