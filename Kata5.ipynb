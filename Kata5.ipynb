{
 "cells": [
  {
   "cell_type": "code",
   "execution_count": 3,
   "metadata": {},
   "outputs": [
    {
     "name": "stdout",
     "output_type": "stream",
     "text": [
      "Distancia entre la Tierra y Jupiter en kilometros: 628949330 km\n",
      "Distancia entre la Tierra y Jupiter en millas: 390577533.93 mi\n"
     ]
    }
   ],
   "source": [
    "#Planetas\n",
    "Tierra = 149597870\n",
    "Jupiter = 778547200\n",
    "\n",
    "\n",
    "# distancia entre planetas en kilometros\n",
    "distancia = Jupiter - Tierra\n",
    "print(\"Distancia entre la Tierra y Jupiter en kilometros: \" + str(distancia) + \" km\")\n",
    "\n",
    "# distancia entre planetas en millas\n",
    "conversion_millas = distancia * 0.621\n",
    "print(\"Distancia entre la Tierra y Jupiter en millas: \" + str(conversion_millas) + \" mi\")\n",
    "\n"
   ]
  },
  {
   "cell_type": "code",
   "execution_count": 6,
   "metadata": {},
   "outputs": [
    {
     "name": "stdout",
     "output_type": "stream",
     "text": [
      "Distancia en km: 240\n",
      "Distancia en millas: 149.04\n"
     ]
    }
   ],
   "source": [
    "# Almacenar las entradas del usuario\n",
    "planetaUno = input('Introduzca la distancia del sol para el primer planeta en KM')\n",
    "planetaDos = input('Introduzca la distancia desde el sol para el segundo planeta en KM')\n",
    "\n",
    "\n",
    "# Convierte las cadenas de ambos planetas a números enteros\n",
    "planeta11 = int(planetaUno)\n",
    "planeta22 = int(planetaDos)\n",
    "\n",
    "#print(planeta11)\n",
    "#print(planeta22)\n",
    "\n",
    "\n",
    "\n",
    "distancia1 = planeta11 - planeta22\n",
    "print(\"Distancia en km: \" + str(abs(distancia1)))\n",
    "\n",
    "\n",
    "distancia2 = distancia1 * 0.621\n",
    "print(\"Distancia en millas: \" + str(abs(distancia2)))"
   ]
  }
 ],
 "metadata": {
  "interpreter": {
   "hash": "1f1954804f79277c720a26c57934adbff72c3d3a1d65bf0fa89aef141ca8b78d"
  },
  "kernelspec": {
   "display_name": "Python 3.10.2 64-bit",
   "language": "python",
   "name": "python3"
  },
  "language_info": {
   "codemirror_mode": {
    "name": "ipython",
    "version": 3
   },
   "file_extension": ".py",
   "mimetype": "text/x-python",
   "name": "python",
   "nbconvert_exporter": "python",
   "pygments_lexer": "ipython3",
   "version": "3.10.2"
  },
  "orig_nbformat": 4
 },
 "nbformat": 4,
 "nbformat_minor": 2
}
