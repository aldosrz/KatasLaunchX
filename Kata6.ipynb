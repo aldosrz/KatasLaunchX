{
 "cells": [
  {
   "cell_type": "code",
   "execution_count": 3,
   "metadata": {},
   "outputs": [
    {
     "name": "stdout",
     "output_type": "stream",
     "text": [
      "La cantidad de planetas es  8\n",
      "Pluton es el ultimo planeta\n"
     ]
    }
   ],
   "source": [
    "\n",
    "\n",
    "planets = ['Mercurio', 'Venus', 'Tierra', 'Marte', 'Jupiter', 'Saturno', 'Urano', 'Neptuno']\n",
    "print('La cantidad de planetas es ', len(planets))\n",
    "\n",
    "\n",
    "planets.append('Pluton')\n",
    "\n",
    "print(planets[-1], 'es el ultimo planeta')\n",
    "\n"
   ]
  },
  {
   "cell_type": "code",
   "execution_count": 2,
   "metadata": {},
   "outputs": [
    {
     "name": "stdout",
     "output_type": "stream",
     "text": [
      "3\n",
      "Planetas mas cercas que Mars\n",
      "['Mercury', 'Venus', 'Earth']\n",
      "Planteas mas lejos que Mars\n",
      "['Jupiter', 'Saturn', 'Neptune']\n"
     ]
    }
   ],
   "source": [
    "\n",
    "# Lista de planetas\n",
    "planets = ['Mercury', 'Venus', 'Earth', 'Mars', 'Jupiter', 'Saturn', 'Neptune']\n",
    "\n",
    "planeta = input('Introduzca el nombre de un planeta (Con Mayuscula al inicio)')\n",
    "\n",
    "\n",
    "planetaSeleccionado = planets.index(planeta)\n",
    "\n",
    "print(planetaSeleccionado)\n",
    "\n",
    "\n",
    "# Muestra los planetas más cercanos al sol, antes del planeta intoducido\n",
    "print('Planetas mas cercas que ' + planeta)\n",
    "print(planets[0:planetaSeleccionado])\n",
    "\n",
    "\n",
    "\n",
    "\n",
    "# Muestra los planetas más lejanos al sol, despues del planeta intoducido\n",
    "print('Planteas mas lejos que ' + planeta)\n",
    "print(planets[planetaSeleccionado + 1:])\n",
    "\n",
    "\n"
   ]
  }
 ],
 "metadata": {
  "interpreter": {
   "hash": "1f1954804f79277c720a26c57934adbff72c3d3a1d65bf0fa89aef141ca8b78d"
  },
  "kernelspec": {
   "display_name": "Python 3.10.2 64-bit",
   "language": "python",
   "name": "python3"
  },
  "language_info": {
   "codemirror_mode": {
    "name": "ipython",
    "version": 3
   },
   "file_extension": ".py",
   "mimetype": "text/x-python",
   "name": "python",
   "nbconvert_exporter": "python",
   "pygments_lexer": "ipython3",
   "version": "3.10.2"
  },
  "orig_nbformat": 4
 },
 "nbformat": 4,
 "nbformat_minor": 2
}
